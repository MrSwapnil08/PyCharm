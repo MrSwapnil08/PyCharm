{
 "cells": [
  {
   "cell_type": "code",
   "execution_count": 5,
   "id": "fc000ea8",
   "metadata": {},
   "outputs": [],
   "source": [
    "import pandas as pd\n",
    "import matplotlib.pyplot as plt"
   ]
  },
  {
   "cell_type": "code",
   "execution_count": 2,
   "id": "6b687307",
   "metadata": {},
   "outputs": [],
   "source": [
    "df = pd.read_csv(\"F:\\Avd\\Python\\datasets\\datasets\\datasets\\score.csv\")"
   ]
  },
  {
   "cell_type": "code",
   "execution_count": 6,
   "id": "e89dcc08",
   "metadata": {},
   "outputs": [
    {
     "data": {
      "text/html": [
       "<div>\n",
       "<style scoped>\n",
       "    .dataframe tbody tr th:only-of-type {\n",
       "        vertical-align: middle;\n",
       "    }\n",
       "\n",
       "    .dataframe tbody tr th {\n",
       "        vertical-align: top;\n",
       "    }\n",
       "\n",
       "    .dataframe thead th {\n",
       "        text-align: right;\n",
       "    }\n",
       "</style>\n",
       "<table border=\"1\" class=\"dataframe\">\n",
       "  <thead>\n",
       "    <tr style=\"text-align: right;\">\n",
       "      <th></th>\n",
       "      <th>admit</th>\n",
       "      <th>marks</th>\n",
       "      <th>rank</th>\n",
       "    </tr>\n",
       "  </thead>\n",
       "  <tbody>\n",
       "    <tr>\n",
       "      <th>0</th>\n",
       "      <td>1</td>\n",
       "      <td>999</td>\n",
       "      <td>2000</td>\n",
       "    </tr>\n",
       "    <tr>\n",
       "      <th>1</th>\n",
       "      <td>1</td>\n",
       "      <td>999</td>\n",
       "      <td>2001</td>\n",
       "    </tr>\n",
       "    <tr>\n",
       "      <th>2</th>\n",
       "      <td>1</td>\n",
       "      <td>998</td>\n",
       "      <td>2002</td>\n",
       "    </tr>\n",
       "    <tr>\n",
       "      <th>3</th>\n",
       "      <td>1</td>\n",
       "      <td>990</td>\n",
       "      <td>2003</td>\n",
       "    </tr>\n",
       "    <tr>\n",
       "      <th>4</th>\n",
       "      <td>1</td>\n",
       "      <td>899</td>\n",
       "      <td>2004</td>\n",
       "    </tr>\n",
       "  </tbody>\n",
       "</table>\n",
       "</div>"
      ],
      "text/plain": [
       "   admit  marks  rank\n",
       "0      1    999  2000\n",
       "1      1    999  2001\n",
       "2      1    998  2002\n",
       "3      1    990  2003\n",
       "4      1    899  2004"
      ]
     },
     "execution_count": 6,
     "metadata": {},
     "output_type": "execute_result"
    }
   ],
   "source": [
    "df.head()"
   ]
  },
  {
   "cell_type": "code",
   "execution_count": 7,
   "id": "367ccfc7",
   "metadata": {},
   "outputs": [],
   "source": [
    "#line plot between marks and ranks\n",
    "x = df['marks']\n",
    "y = df['rank']\n"
   ]
  },
  {
   "cell_type": "code",
   "execution_count": 13,
   "id": "73c90596",
   "metadata": {},
   "outputs": [
    {
     "data": {
      "image/png": "[encoded data removed]",
      "text/plain": [
       "<Figure size 432x288 with 1 Axes>"
      ]
     },
     "metadata": {
      "needs_background": "light"
     },
     "output_type": "display_data"
    }
   ],
   "source": [
    "plt.plot(x,y, color = 'orange')\n",
    "plt.scatter(x,y, color = 'blue') #Create a Scatter plot \n",
    "plt.xlabel('Student Marks')\n",
    "plt.ylabel('Student Rank')\n",
    "plt.show()"
   ]
  },
  {
   "cell_type": "code",
   "execution_count": 24,
   "id": "fea9abcb",
   "metadata": {},
   "outputs": [
    {
     "data": {
      "text/plain": [
       "(2000.0, 2100.0)"
      ]
     },
     "execution_count": 24,
     "metadata": {},
     "output_type": "execute_result"
    },
    {
     "data": {
      "image/png": "[encoded data removed]",
      "text/plain": [
       "<Figure size 432x288 with 1 Axes>"
      ]
     },
     "metadata": {
      "needs_background": "light"
     },
     "output_type": "display_data"
    }
   ],
   "source": [
    "#Bar graph\n",
    "plt.bar(x,y,color ='green', label ='bar graph')\n",
    "plt.xlim(700, 1000)\n",
    "plt.ylim(2000, 2100)"
   ]
  },
  {
   "cell_type": "code",
   "execution_count": 25,
   "id": "d4802267",
   "metadata": {},
   "outputs": [
    {
     "data": {
      "text/plain": [
       "<BarContainer object of 50 artists>"
      ]
     },
     "execution_count": 25,
     "metadata": {},
     "output_type": "execute_result"
    },
    {
     "data": {
      "image/png": "[encoded data removed]",
      "text/plain": [
       "<Figure size 432x288 with 1 Axes>"
      ]
     },
     "metadata": {
      "needs_background": "light"
     },
     "output_type": "display_data"
    }
   ],
   "source": [
    "#horizontal barchart\n",
    "plt.barh(x,y,color ='green', label ='bar graph')"
   ]
  },
  {
   "cell_type": "code",
   "execution_count": 26,
   "id": "a6b99f8e",
   "metadata": {},
   "outputs": [],
   "source": [
    "#pie chart\n",
    "x = df['marks'] "
   ]
  },
  {
   "cell_type": "code",
   "execution_count": 32,
   "id": "44280e7b",
   "metadata": {},
   "outputs": [
    {
     "data": {
      "text/plain": [
       "4"
      ]
     },
     "execution_count": 32,
     "metadata": {},
     "output_type": "execute_result"
    }
   ],
   "source": [
    "x1=len(x[x>950])\n",
    "x1"
   ]
  },
  {
   "cell_type": "code",
   "execution_count": 40,
   "id": "0a096547",
   "metadata": {},
   "outputs": [],
   "source": [
    "x2 = len(x[(x>850) & (x<=950)])"
   ]
  },
  {
   "cell_type": "code",
   "execution_count": 34,
   "id": "9955309c",
   "metadata": {},
   "outputs": [],
   "source": [
    "x3 = len(x[x<=850])"
   ]
  },
  {
   "cell_type": "code",
   "execution_count": 41,
   "id": "5bf52ed0",
   "metadata": {},
   "outputs": [
    {
     "name": "stdout",
     "output_type": "stream",
     "text": [
      "4 18 28\n"
     ]
    }
   ],
   "source": [
    "print(x1, x2, x3)"
   ]
  },
  {
   "cell_type": "code",
   "execution_count": 42,
   "id": "82d0315c",
   "metadata": {},
   "outputs": [],
   "source": [
    "slices = [x1, x2, x3]\n",
    "cols = ['yellow', 'red', 'green']\n",
    "lbls = ['Marks > 950', 'Marks 850-950', 'Marks < 950']\n"
   ]
  },
  {
   "cell_type": "code",
   "execution_count": 47,
   "id": "92664f72",
   "metadata": {},
   "outputs": [
    {
     "data": {
      "image/png": "[encoded data removed]",
      "text/plain": [
       "<Figure size 432x288 with 1 Axes>"
      ]
     },
     "metadata": {},
     "output_type": "display_data"
    }
   ],
   "source": [
    "plt.pie(slices, colors= cols, labels = lbls, shadow = True, explode=(0.20,0,0))\n",
    "plt.show()"
   ]
  },
  {
   "cell_type": "code",
   "execution_count": 48,
   "id": "609e6b9b",
   "metadata": {},
   "outputs": [],
   "source": [
    "#sub plot \n",
    "df = pd.read_csv(\"F:\\Avd\\Python\\datasets\\datasets\\datasets\\score.csv\")"
   ]
  },
  {
   "cell_type": "code",
   "execution_count": 49,
   "id": "75a6581f",
   "metadata": {},
   "outputs": [],
   "source": [
    "x = df['marks']\n",
    "y = df['rank']\n",
    "z = df['admit']"
   ]
  },
  {
   "cell_type": "code",
   "execution_count": 51,
   "id": "950f790f",
   "metadata": {},
   "outputs": [
    {
     "data": {
      "text/plain": [
       "Text(0.5, 1.0, 'Marks  vs  Rank')"
      ]
     },
     "execution_count": 51,
     "metadata": {},
     "output_type": "execute_result"
    }
   ],
   "source": [
    "fig = plt.figure()\n",
    "g1 = fig.add_subplot(2,2,1, facecolor = 'yellow')\n",
    "g1.plot(x,y)\n",
    "g1.set_title('Marks  vs  Rank')\n",
    "\n",
    "\n",
    "g2 = fig.add_subplot(2,2,2, facecolor = 'cyan')\n",
    "g2.plot(x,y)\n",
    "g2.set_title('Marks  vs Admission')\n",
    "\n",
    "mx = max(x)\n",
    "mi = min(x)\n",
    "ad = len(z[z==1])\n",
    "\n",
    "g3 = fig.add_subplot(2,2,3, facecolor = 'lightgreen')\n",
    "g3.pie([mx, mi, ad],color = ['yello''green', 'blue'])\n",
    "\n"
   ]
  },
  {
   "cell_type": "code",
   "execution_count": null,
   "id": "c5a09a94",
   "metadata": {},
   "outputs": [],
   "source": []
  },
  {
   "cell_type": "code",
   "execution_count": null,
   "id": "5f4007ad",
   "metadata": {},
   "outputs": [],
   "source": []
  },
  {
   "cell_type": "code",
   "execution_count": null,
   "id": "fc1baf70",
   "metadata": {},
   "outputs": [],
   "source": []
  },
  {
   "cell_type": "code",
   "execution_count": null,
   "id": "e3da45c3",
   "metadata": {},
   "outputs": [],
   "source": []
  },
  {
   "cell_type": "code",
   "execution_count": null,
   "id": "438b9a62",
   "metadata": {},
   "outputs": [],
   "source": []
  }
 ],
 "metadata": {
  "kernelspec": {
   "display_name": "Python 3 (ipykernel)",
   "language": "python",
   "name": "python3"
  },
  "language_info": {
   "codemirror_mode": {
    "name": "ipython",
    "version": 3
   },
   "file_extension": ".py",
   "mimetype": "text/x-python",
   "name": "python",
   "nbconvert_exporter": "python",
   "pygments_lexer": "ipython3",
   "version": "3.9.12"
  }
 },
 "nbformat": 4,
 "nbformat_minor": 5
}
